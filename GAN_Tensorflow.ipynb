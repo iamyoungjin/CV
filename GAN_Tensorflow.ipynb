{
 "cells": [
  {
   "cell_type": "code",
   "execution_count": 33,
   "metadata": {},
   "outputs": [],
   "source": [
    "import tensorflow as tf\n",
    "import numpy as np\n",
    "import matplotlib.pyplot as plt "
   ]
  },
  {
   "cell_type": "code",
   "execution_count": 34,
   "metadata": {},
   "outputs": [
    {
     "name": "stdout",
     "output_type": "stream",
     "text": [
      "Extracting MNIST_data/train-images-idx3-ubyte.gz\n",
      "Extracting MNIST_data/train-labels-idx1-ubyte.gz\n",
      "Extracting MNIST_data/t10k-images-idx3-ubyte.gz\n",
      "Extracting MNIST_data/t10k-labels-idx1-ubyte.gz\n"
     ]
    }
   ],
   "source": [
    "from tensorflow.examples.tutorials.mnist import input_data\n",
    "mnist = input_data.read_data_sets(\"MNIST_data/\")"
   ]
  },
  {
   "cell_type": "code",
   "execution_count": 35,
   "metadata": {},
   "outputs": [
    {
     "name": "stdout",
     "output_type": "stream",
     "text": [
      "(55000, 784) (55000,)\n"
     ]
    }
   ],
   "source": [
    "train_x = mnist.train.images\n",
    "train_y = mnist.train.labels\n",
    "print(train_x.shape, train_y.shape)"
   ]
  },
  {
   "cell_type": "code",
   "execution_count": 36,
   "metadata": {},
   "outputs": [],
   "source": [
    "total_epochs = 100\n",
    "batch_size = 100\n",
    "learning_rate =0.0002"
   ]
  },
  {
   "cell_type": "code",
   "execution_count": 37,
   "metadata": {},
   "outputs": [
    {
     "data": {
      "text/plain": [
       "'\\ngenerator \\ndiscriminator\\nrandom_noise\\n'"
      ]
     },
     "execution_count": 37,
     "metadata": {},
     "output_type": "execute_result"
    }
   ],
   "source": [
    "#module\n",
    "'''\n",
    "generator \n",
    "discriminator\n",
    "random_noise\n",
    "'''"
   ]
  },
  {
   "cell_type": "code",
   "execution_count": 50,
   "metadata": {},
   "outputs": [],
   "source": [
    "def generator(z,reuse = False):\n",
    "    if reuse == False:\n",
    "        with tf.variable_scope(name_or_scope=\"Gen\") as scope:\n",
    "            gw1 = tf.get_variable(name=\"w1\",shape=[128,256],initializer=tf.random_normal_initializer(mean=0.0,stddev=0.01))\n",
    "            gb1 = tf.get_variable(name=\"b1\",shape=[256],initializer=tf.random_normal_initializer(mean=0.0,stddev=0.01))\n",
    "            gw2 = tf.get_variable(name=\"w2\",shape=[256,784],initializer=tf.random_normal_initializer(mean=0.0,stddev=0.01))\n",
    "            gb2 = tf.get_variable(name=\"b2\",shape=[784],initializer=tf.random_normal_initializer(mean=0.0,stddev=0.01))\n",
    "    else:\n",
    "        with tf.variable_scope(name_or_scope=\"Gen\", reuse=True) as scope:\n",
    "            gw1 = tf.get_variable(name=\"w1\",shape=[128,256],initializer=tf.random_normal_initializer(mean=0.0,stddev=0.01))\n",
    "            gb1 = tf.get_variable(name=\"b1\",shape=[256],initializer=tf.random_normal_initializer(mean=0.0,stddev=0.01))\n",
    "            gw2 = tf.get_variable(name=\"w2\",shape=[256,784],initializer=tf.random_normal_initializer(mean=0.0,stddev=0.01))\n",
    "            gb2 = tf.get_variable(name=\"b2\",shape=[784],initializer=tf.random_normal_initializer(mean=0.0,stddev=0.01))\n",
    "    hidden = tf.nn.relu(tf.matmul(z,gw1) +gb1)\n",
    "    output = tf.nn.sigmoid(tf.matmul(hidden,gw2) + gb2)\n",
    "    return output"
   ]
  },
  {
   "cell_type": "code",
   "execution_count": 51,
   "metadata": {},
   "outputs": [],
   "source": [
    "def discriminator(z,reuse = False):\n",
    "    if reuse == False:\n",
    "        with tf.variable_scope(name_or_scope=\"Dis\") as scope:\n",
    "            dw1 = tf.get_variable(name=\"w1\",shape=[784,256],initializer=tf.random_normal_initializer(mean=0.0,stddev=0.01))\n",
    "            db1 = tf.get_variable(name=\"b1\",shape=[256],initializer=tf.random_normal_initializer(mean=0.0,stddev=0.01))\n",
    "            dw2 = tf.get_variable(name=\"w2\",shape=[256,1],initializer=tf.random_normal_initializer(mean=0.0,stddev=0.01))\n",
    "            db2 = tf.get_variable(name=\"b2\",shape=[1],initializer=tf.random_normal_initializer(mean=0.0,stddev=0.01))\n",
    "    else:\n",
    "        with tf.variable_scope(name_or_scope=\"Gen\", reuse=True) as scope:\n",
    "            dw1 = tf.get_variable(name=\"w1\",shape=[784,256],initializer=tf.random_normal_initializer(mean=0.0,stddev=0.01))\n",
    "            db1 = tf.get_variable(name=\"b1\",shape=[256],initializer=tf.random_normal_initializer(mean=0.0,stddev=0.01))\n",
    "            dw2 = tf.get_variable(name=\"w2\",shape=[256,1],initializer=tf.random_normal_initializer(mean=0.0,stddev=0.01))\n",
    "            db2 = tf.get_variable(name=\"b2\",shape=[1],initializer=tf.random_normal_initializer(mean=0.0,stddev=0.01))\n",
    "            \n",
    "    hidden = tf.nn.relu(tf.matmul(x,dw1) +db1)\n",
    "    output = tf.nn.sigmoid(tf.matmul(hidden,dw2) + db2)\n",
    "    return output"
   ]
  },
  {
   "cell_type": "code",
   "execution_count": 52,
   "metadata": {},
   "outputs": [],
   "source": [
    "def random_noise(batch_size):\n",
    "    return np.random.normal(size=[batch_size,128])"
   ]
  },
  {
   "cell_type": "code",
   "execution_count": 54,
   "metadata": {
    "scrolled": false
   },
   "outputs": [],
   "source": [
    "g = tf.Graph()\n",
    "with g.as_default():\n",
    "    x = tf.placeholder(tf.float32,[None,784])\n",
    "    z = tf.placeholder(tf.float32,[None,128])\n",
    "    \n",
    "#     fake_x =generator(z)\n",
    "#     result_of_fake = discriminator(fake_x)\n",
    "#     result_of_real = discriminator(x, True)"
   ]
  },
  {
   "cell_type": "code",
   "execution_count": null,
   "metadata": {},
   "outputs": [],
   "source": []
  },
  {
   "cell_type": "code",
   "execution_count": null,
   "metadata": {},
   "outputs": [],
   "source": []
  }
 ],
 "metadata": {
  "kernelspec": {
   "display_name": "Python 3",
   "language": "python",
   "name": "python3"
  },
  "language_info": {
   "codemirror_mode": {
    "name": "ipython",
    "version": 3
   },
   "file_extension": ".py",
   "mimetype": "text/x-python",
   "name": "python",
   "nbconvert_exporter": "python",
   "pygments_lexer": "ipython3",
   "version": "3.7.2"
  }
 },
 "nbformat": 4,
 "nbformat_minor": 2
}
